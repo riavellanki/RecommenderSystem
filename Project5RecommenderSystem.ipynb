{
 "cells": [
  {
   "cell_type": "code",
   "execution_count": 1,
   "id": "5385dca0-51e8-4142-9645-7a2c8d77da50",
   "metadata": {},
   "outputs": [],
   "source": [
    "import pandas as pd\n",
    "import numpy as np"
   ]
  },
  {
   "cell_type": "code",
   "execution_count": 3,
   "id": "2cef861d-48ae-46e8-b183-55368083a939",
   "metadata": {},
   "outputs": [],
   "source": [
    "df = pd.read_csv('Preprocessed_Movies_IMDb.csv')"
   ]
  },
  {
   "cell_type": "code",
   "execution_count": 5,
   "id": "98fca823-2f68-4687-87aa-3d46cbd86698",
   "metadata": {},
   "outputs": [
    {
     "data": {
      "text/plain": [
       "<bound method DataFrame.info of         ID                           Movie Name    Rating  Runtime  \\\n",
       "0        1             The Shawshank Redemption  1.000000    142.0   \n",
       "1        2                        The Godfather  0.973684    175.0   \n",
       "2        3  Ramayana: The Legend of Prince Rama  0.973684    135.0   \n",
       "3        4                      The Chaos Class  0.973684     87.0   \n",
       "4        5                                Daman  0.947368    121.0   \n",
       "...    ...                                  ...       ...      ...   \n",
       "4994  4995                               Jungle  0.315789    115.0   \n",
       "4995  4996                  Blast from the Past  0.315789    112.0   \n",
       "4996  4997                             The Grey  0.315789    117.0   \n",
       "4997  4998                          I Am Mother  0.315789    113.0   \n",
       "4998  9020                      Gretel & Hansel  0.000000     87.0   \n",
       "\n",
       "                             Genre  Metascore  \\\n",
       "0                            Drama       82.0   \n",
       "1                     Crime, Drama      100.0   \n",
       "2     Animation, Action, Adventure        NaN   \n",
       "3                    Comedy, Drama        NaN   \n",
       "4                 Adventure, Drama        NaN   \n",
       "...                            ...        ...   \n",
       "4994  Action, Adventure, Biography       48.0   \n",
       "4995        Comedy, Drama, Romance       48.0   \n",
       "4996      Action, Adventure, Drama       64.0   \n",
       "4997        Drama, Mystery, Sci-Fi       64.0   \n",
       "4998      Fantasy, Horror, Mystery       64.0   \n",
       "\n",
       "                                                   Plot  \\\n",
       "0     Over the course of several years, two convicts...   \n",
       "1     Don Vito Corleone, head of a mafia family, dec...   \n",
       "2     An anime adaptation of the Hindu epic the Rama...   \n",
       "3     Lazy, uneducated students share a very close b...   \n",
       "4     The film is set in 2015. Sid, is a young docto...   \n",
       "...                                                 ...   \n",
       "4994  A group of friends join a guide for a trek int...   \n",
       "4995  A naive man comes out into the world after spe...   \n",
       "4996  After their plane crashes in Alaska, six oil w...   \n",
       "4997  In the wake of humanity's extinction, a teenag...   \n",
       "4998  A long time ago in a distant fairy tale countr...   \n",
       "\n",
       "                                              Directors  \\\n",
       "0     ['Frank Darabont', 'Tim Robbins', 'Morgan Free...   \n",
       "1     ['Francis Ford Coppola', 'Marlon Brando', 'Al ...   \n",
       "2     ['Ram Mohan', 'Yûgô Sakô', 'Koichi Saski', 'Ar...   \n",
       "3     ['Ertem Egilmez', 'Kemal Sunal', 'Münir Özkul'...   \n",
       "4     ['Lenka Debiprasad', 'Vishal Mourya', 'Karan K...   \n",
       "...                                                 ...   \n",
       "4994  ['Greg McLean', 'Daniel Radcliffe', 'Thomas Kr...   \n",
       "4995  ['Hugh Wilson', 'Brendan Fraser', 'Alicia Silv...   \n",
       "4996  ['Joe Carnahan', 'Liam Neeson', 'Dermot Mulron...   \n",
       "4997  ['Grant Sputore', 'Luke Hawker', 'Rose Byrne',...   \n",
       "4998  ['Oz Perkins', 'Sophia Lillis', 'Samuel Leakey...   \n",
       "\n",
       "                                                  Stars     Votes     Gross  \\\n",
       "0     ['Tim Robbins', 'Morgan Freeman', 'Bob Gunton'...  1.000000  0.030258   \n",
       "1     ['Marlon Brando', 'Al Pacino', 'James Caan', '...  0.694551  0.144093   \n",
       "2     ['Yûgô Sakô', 'Koichi Saski', 'Arun Govil', 'N...  0.000037  0.000011   \n",
       "3     ['Kemal Sunal', 'Münir Özkul', 'Halit Akçatepe...  0.011588  0.000045   \n",
       "4     ['Vishal Mourya', 'Karan Kandhapan', 'Babushan...  0.001202  0.000014   \n",
       "...                                                 ...       ...       ...   \n",
       "4994  ['Daniel Radcliffe', 'Thomas Kretschmann', 'Al...  0.018218  0.000064   \n",
       "4995  ['Brendan Fraser', 'Alicia Silverstone', 'Chri...  0.021510  0.028286   \n",
       "4996  ['Liam Neeson', 'Dermot Mulroney', 'Frank Gril...  0.090252  0.055068   \n",
       "4997  ['Luke Hawker', 'Rose Byrne', 'Maddie Lenton',...  0.031044  0.000102   \n",
       "4998  ['Sophia Lillis', 'Samuel Leakey', 'Alice Krig...  0.008179  0.016385   \n",
       "\n",
       "                                        Link  \\\n",
       "0      https://www.imdb.com/title/tt0111161/   \n",
       "1      https://www.imdb.com/title/tt0068646/   \n",
       "2      https://www.imdb.com/title/tt0259534/   \n",
       "3      https://www.imdb.com/title/tt0252487/   \n",
       "4     https://www.imdb.com/title/tt17592606/   \n",
       "...                                      ...   \n",
       "4994   https://www.imdb.com/title/tt3758172/   \n",
       "4995   https://www.imdb.com/title/tt0124298/   \n",
       "4996   https://www.imdb.com/title/tt1601913/   \n",
       "4997   https://www.imdb.com/title/tt6292852/   \n",
       "4998   https://www.imdb.com/title/tt9086228/   \n",
       "\n",
       "                                           Cleaned_Plot  \n",
       "0     course several year two convict form friendshi...  \n",
       "1     vito corleone head mafia family decides hand e...  \n",
       "2     anime adaptation hindu epic ramayana lord ram ...  \n",
       "3     lazy uneducated student share close bond live ...  \n",
       "4     film set sid young doctor completed mbbs poste...  \n",
       "...                                                 ...  \n",
       "4994  group friend join guide trek bolivian jungle s...  \n",
       "4995  naive man come world spending year nuclear fal...  \n",
       "4996  plane crash alaska six oil worker led skilled ...  \n",
       "4997  wake humanity extinction teenage girl raised r...  \n",
       "4998  long time ago distant fairy tale countryside y...  \n",
       "\n",
       "[4999 rows x 13 columns]>"
      ]
     },
     "execution_count": 5,
     "metadata": {},
     "output_type": "execute_result"
    }
   ],
   "source": [
    "df.info"
   ]
  },
  {
   "cell_type": "code",
   "execution_count": 7,
   "id": "f2495679-6186-46b5-997d-adeee0c4f640",
   "metadata": {},
   "outputs": [
    {
     "data": {
      "text/plain": [
       "ID                int64\n",
       "Movie Name       object\n",
       "Rating          float64\n",
       "Runtime         float64\n",
       "Genre            object\n",
       "Metascore       float64\n",
       "Plot             object\n",
       "Directors        object\n",
       "Stars            object\n",
       "Votes           float64\n",
       "Gross           float64\n",
       "Link             object\n",
       "Cleaned_Plot     object\n",
       "dtype: object"
      ]
     },
     "execution_count": 7,
     "metadata": {},
     "output_type": "execute_result"
    }
   ],
   "source": [
    "df.dtypes"
   ]
  },
  {
   "cell_type": "code",
   "execution_count": 25,
   "id": "6cd4c072-baf1-4a71-b87f-5148baecfe31",
   "metadata": {},
   "outputs": [
    {
     "name": "stdout",
     "output_type": "stream",
     "text": [
      "Recommendations for 'Mirror Game': ['M', 'Andhadhun', 'The Testament of Dr. Mabuse', 'The 39 Steps', 'Following']\n"
     ]
    }
   ],
   "source": [
    "from sklearn.feature_extraction.text import TfidfVectorizer\n",
    "from sklearn.metrics.pairwise import cosine_similarity\n",
    "\n",
    "#Recommender System\n",
    "df['Genre'] = df['Genre'].fillna('')\n",
    "\n",
    "tfidf = TfidfVectorizer(stop_words='english')\n",
    "matrix = tfidf.fit_transform(df['Genre'])\n",
    "\n",
    "cosine_sim = cosine_similarity(matrix, matrix)\n",
    "\n",
    "movie_indx = pd.Series(df.index, index=df['Movie Name']).drop_duplicates()\n",
    "\n",
    "def recommend_movies(movie_name, num_recs=5):\n",
    "    if movie_name not in movie_indx:\n",
    "        return f\"Movie '{movie_name}' not found in the dataset.\"\n",
    "    \n",
    "    indx = movie_indx[movie_name]\n",
    "    \n",
    "    sim_scores = list(enumerate(cosine_sim[indx]))\n",
    "    \n",
    "    sim_scores = sorted(sim_scores, key=lambda x: x[1], reverse=True)\n",
    "    \n",
    "    top_movies_indx = [i[0] for i in sim_scores[1:num_recs+1]]\n",
    "    \n",
    "    return df['Movie Name'].iloc[top_movies_indx].tolist()\n",
    "\n",
    "# Test the system\n",
    "searched_movie = 'Mirror Game' \n",
    "recs = recommend_movies(searched_movie, num_recs=5)\n",
    "print(f\"Recommendations for '{searched_movie}': {recs}\")\n"
   ]
  }
 ],
 "metadata": {
  "kernelspec": {
   "display_name": "Python 3 (ipykernel)",
   "language": "python",
   "name": "python3"
  },
  "language_info": {
   "codemirror_mode": {
    "name": "ipython",
    "version": 3
   },
   "file_extension": ".py",
   "mimetype": "text/x-python",
   "name": "python",
   "nbconvert_exporter": "python",
   "pygments_lexer": "ipython3",
   "version": "3.12.4"
  }
 },
 "nbformat": 4,
 "nbformat_minor": 5
}
